{
 "cells": [
  {
   "cell_type": "code",
   "execution_count": 1,
   "metadata": {},
   "outputs": [],
   "source": [
    "import os"
   ]
  },
  {
   "cell_type": "code",
   "execution_count": 2,
   "metadata": {},
   "outputs": [
    {
     "name": "stdout",
     "output_type": "stream",
     "text": [
      "Total number of solved problems: 40\n"
     ]
    }
   ],
   "source": [
    "folders = [x for x in next(os.walk('.'))[1][1:] if 'Unsolved' not in x]\n",
    "print(f\"Total number of solved problems: {len(folders)}\")"
   ]
  },
  {
   "cell_type": "code",
   "execution_count": 3,
   "metadata": {},
   "outputs": [
    {
     "data": {
      "text/plain": [
       "['1-digit problems solved: 7',\n",
       " '2-digit problems solved: 8',\n",
       " '3-digit problems solved: 14',\n",
       " '4-digit problems solved: 11']"
      ]
     },
     "execution_count": 3,
     "metadata": {},
     "output_type": "execute_result"
    }
   ],
   "source": [
    "leng = [len(x) - 1 for x in folders]\n",
    "[f'{x}-digit problems solved: {leng.count(x)}' for x in range(1, 5)]"
   ]
  },
  {
   "cell_type": "code",
   "execution_count": 4,
   "metadata": {},
   "outputs": [
    {
     "data": {
      "text/plain": [
       "['A-suffix problems solved: 33',\n",
       " 'B-suffix problems solved: 4',\n",
       " 'C-suffix problems solved: 3']"
      ]
     },
     "execution_count": 4,
     "metadata": {},
     "output_type": "execute_result"
    }
   ],
   "source": [
    "letters = [x[-1] for x in folders]\n",
    "[f'{x}-suffix problems solved: {letters.count(x)}' for x in sorted(set(letters))]"
   ]
  },
  {
   "cell_type": "code",
   "execution_count": 5,
   "metadata": {},
   "outputs": [
    {
     "data": {
      "text/plain": [
       "['112A',\n",
       " '151A',\n",
       " '158A',\n",
       " '1926A',\n",
       " '1926B',\n",
       " '1942A',\n",
       " '1945A',\n",
       " '1946A',\n",
       " '1948A',\n",
       " '1950A',\n",
       " '1950B',\n",
       " '1950C',\n",
       " '1954A',\n",
       " '1955A',\n",
       " '1A',\n",
       " '1B',\n",
       " '1C',\n",
       " '231A',\n",
       " '236A',\n",
       " '23A',\n",
       " '25A',\n",
       " '263A',\n",
       " '266A',\n",
       " '281A',\n",
       " '282A',\n",
       " '2A',\n",
       " '339A',\n",
       " '3A',\n",
       " '3C',\n",
       " '432A',\n",
       " '4A',\n",
       " '50A',\n",
       " '58B',\n",
       " '59A',\n",
       " '617A',\n",
       " '61A',\n",
       " '630A',\n",
       " '63A',\n",
       " '71A',\n",
       " '791A']"
      ]
     },
     "execution_count": 5,
     "metadata": {},
     "output_type": "execute_result"
    }
   ],
   "source": [
    "folders"
   ]
  }
 ],
 "metadata": {
  "kernelspec": {
   "display_name": "Python 3",
   "language": "python",
   "name": "python3"
  },
  "language_info": {
   "codemirror_mode": {
    "name": "ipython",
    "version": 3
   },
   "file_extension": ".py",
   "mimetype": "text/x-python",
   "name": "python",
   "nbconvert_exporter": "python",
   "pygments_lexer": "ipython3",
   "version": "3.11.8"
  }
 },
 "nbformat": 4,
 "nbformat_minor": 2
}
