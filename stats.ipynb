{
 "cells": [
  {
   "cell_type": "code",
   "execution_count": 1,
   "metadata": {},
   "outputs": [],
   "source": [
    "import os"
   ]
  },
  {
   "cell_type": "code",
   "execution_count": 26,
   "metadata": {},
   "outputs": [
    {
     "data": {
      "text/plain": [
       "['800 point problems solved: 29',\n",
       " '900 point problems solved: 2',\n",
       " '1000 point problems solved: 2',\n",
       " '1200 point problems solved: 1',\n",
       " '1300 point problems solved: 2',\n",
       " '1500 point problems solved: 1',\n",
       " '1600 point problems solved: 1',\n",
       " '1800 point problems solved: 1',\n",
       " '2100 point problems solved: 1']"
      ]
     },
     "execution_count": 26,
     "metadata": {},
     "output_type": "execute_result"
    }
   ],
   "source": [
    "pointfolders = sorted([x for x in next(os.walk('.'))[1][1:] if 'Unsolved' not in x], key = lambda x: int(x[:-1]))\n",
    "[f\"{x[:-1]} point problems solved: {len(next(os.walk(x))[1])}\" for x in pointfolders]"
   ]
  },
  {
   "cell_type": "code",
   "execution_count": 28,
   "metadata": {},
   "outputs": [
    {
     "data": {
      "text/plain": [
       "'Total number of problems solved: 40'"
      ]
     },
     "execution_count": 28,
     "metadata": {},
     "output_type": "execute_result"
    }
   ],
   "source": [
    "f\"Total number of problems solved: {sum([len(next(os.walk(x))[1]) for x in pointfolders])}\""
   ]
  },
  {
   "cell_type": "code",
   "execution_count": 62,
   "metadata": {},
   "outputs": [
    {
     "data": {
      "text/plain": [
       "['1-digit problems solved: 7',\n",
       " '2-digit problems solved: 8',\n",
       " '3-digit problems solved: 14',\n",
       " '4-digit problems solved: 11']"
      ]
     },
     "execution_count": 62,
     "metadata": {},
     "output_type": "execute_result"
    }
   ],
   "source": [
    "solved = sorted(sum([next(os.walk(x))[1] for x in [x for x in next(os.walk('.'))[1][1:] if 'Unsolved' not in x]], []), key = lambda x: (int(x[:-1]), x[-1]))\n",
    "numbers = [len(x) - 1 for x in solved]\n",
    "[f'{x}-digit problems solved: {numbers.count(x)}' for x in range(1, 5)]"
   ]
  },
  {
   "cell_type": "code",
   "execution_count": 63,
   "metadata": {},
   "outputs": [
    {
     "data": {
      "text/plain": [
       "['A-suffix problems solved: 33',\n",
       " 'B-suffix problems solved: 4',\n",
       " 'C-suffix problems solved: 3']"
      ]
     },
     "execution_count": 63,
     "metadata": {},
     "output_type": "execute_result"
    }
   ],
   "source": [
    "letters = [x[-1] for x in solved]\n",
    "[f'{x}-suffix problems solved: {letters.count(x)}' for x in sorted(set(letters))]"
   ]
  },
  {
   "cell_type": "code",
   "execution_count": 55,
   "metadata": {},
   "outputs": [
    {
     "name": "stdout",
     "output_type": "stream",
     "text": [
      "List of problems solved: \n"
     ]
    },
    {
     "data": {
      "text/plain": [
       "['1A',\n",
       " '1B',\n",
       " '1C',\n",
       " '2A',\n",
       " '3A',\n",
       " '3C',\n",
       " '4A',\n",
       " '23A',\n",
       " '25A',\n",
       " '50A',\n",
       " '58B',\n",
       " '59A',\n",
       " '61A',\n",
       " '63A',\n",
       " '71A',\n",
       " '112A',\n",
       " '151A',\n",
       " '158A',\n",
       " '231A',\n",
       " '236A',\n",
       " '263A',\n",
       " '266A',\n",
       " '281A',\n",
       " '282A',\n",
       " '339A',\n",
       " '432A',\n",
       " '617A',\n",
       " '630A',\n",
       " '791A',\n",
       " '1926A',\n",
       " '1926B',\n",
       " '1942A',\n",
       " '1945A',\n",
       " '1946A',\n",
       " '1948A',\n",
       " '1950A',\n",
       " '1950B',\n",
       " '1950C',\n",
       " '1954A',\n",
       " '1955A']"
      ]
     },
     "execution_count": 55,
     "metadata": {},
     "output_type": "execute_result"
    }
   ],
   "source": [
    "print(\"List of problems solved: \")\n",
    "solved"
   ]
  }
 ],
 "metadata": {
  "kernelspec": {
   "display_name": "Python 3",
   "language": "python",
   "name": "python3"
  },
  "language_info": {
   "codemirror_mode": {
    "name": "ipython",
    "version": 3
   },
   "file_extension": ".py",
   "mimetype": "text/x-python",
   "name": "python",
   "nbconvert_exporter": "python",
   "pygments_lexer": "ipython3",
   "version": "3.11.8"
  }
 },
 "nbformat": 4,
 "nbformat_minor": 2
}
