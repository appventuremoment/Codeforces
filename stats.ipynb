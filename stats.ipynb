{
 "cells": [
  {
   "cell_type": "code",
   "execution_count": 19,
   "metadata": {},
   "outputs": [],
   "source": [
    "import os"
   ]
  },
  {
   "cell_type": "code",
   "execution_count": 20,
   "metadata": {},
   "outputs": [
    {
     "data": {
      "text/plain": [
       "['800 point problems solved: 112',\n",
       " '900 point problems solved: 9',\n",
       " '1200 point problems solved: 1',\n",
       " '1300 point problems solved: 2',\n",
       " '1500 point problems solved: 1',\n",
       " '1600 point problems solved: 1',\n",
       " '1800 point problems solved: 1',\n",
       " '2100 point problems solved: 1']"
      ]
     },
     "execution_count": 20,
     "metadata": {},
     "output_type": "execute_result"
    }
   ],
   "source": [
    "pointfolders = sorted([x for x in next(os.walk('.'))[1][1:] if x.isnumeric()], key = lambda x: int(x[:-1]))\n",
    "[f\"{x} point problems solved: {len(next(os.walk(x))[1])}\" for x in pointfolders]"
   ]
  },
  {
   "cell_type": "code",
   "execution_count": 21,
   "metadata": {},
   "outputs": [
    {
     "data": {
      "text/plain": [
       "'Total number of problems solved: 128'"
      ]
     },
     "execution_count": 21,
     "metadata": {},
     "output_type": "execute_result"
    }
   ],
   "source": [
    "f\"Total number of problems solved: {sum([len(next(os.walk(x))[1]) for x in pointfolders])}\""
   ]
  },
  {
   "cell_type": "code",
   "execution_count": 22,
   "metadata": {},
   "outputs": [
    {
     "data": {
      "text/plain": [
       "['1-digit problems solved: 6',\n",
       " '2-digit problems solved: 12',\n",
       " '3-digit problems solved: 59',\n",
       " '4-digit problems solved: 51']"
      ]
     },
     "execution_count": 22,
     "metadata": {},
     "output_type": "execute_result"
    }
   ],
   "source": [
    "solved = sorted(sum([next(os.walk(x))[1] for x in [x for x in next(os.walk('.'))[1][1:] if x.isnumeric()]], []), key = lambda x: (int(x[:-1]), x[-1]))\n",
    "numbers = [len(x) - 1 for x in solved]\n",
    "[f'{x}-digit problems solved: {numbers.count(x)}' for x in range(1, 5)]"
   ]
  },
  {
   "cell_type": "code",
   "execution_count": 23,
   "metadata": {},
   "outputs": [
    {
     "data": {
      "text/plain": [
       "['A-suffix problems solved: 110',\n",
       " 'B-suffix problems solved: 14',\n",
       " 'C-suffix problems solved: 3',\n",
       " 'F-suffix problems solved: 1']"
      ]
     },
     "execution_count": 23,
     "metadata": {},
     "output_type": "execute_result"
    }
   ],
   "source": [
    "letters = [x[-1] for x in solved]\n",
    "[f'{x}-suffix problems solved: {letters.count(x)}' for x in sorted(set(letters))]"
   ]
  },
  {
   "cell_type": "code",
   "execution_count": 24,
   "metadata": {},
   "outputs": [
    {
     "name": "stdout",
     "output_type": "stream",
     "text": [
      "List of problems solved: \n"
     ]
    },
    {
     "data": {
      "text/plain": [
       "['1B',\n",
       " '1C',\n",
       " '2A',\n",
       " '3C',\n",
       " '4A',\n",
       " '9A',\n",
       " '23A',\n",
       " '25A',\n",
       " '32B',\n",
       " '41A',\n",
       " '50A',\n",
       " '58B',\n",
       " '59A',\n",
       " '61A',\n",
       " '63A',\n",
       " '71A',\n",
       " '80A',\n",
       " '96A',\n",
       " '110A',\n",
       " '112A',\n",
       " '116A',\n",
       " '136A',\n",
       " '141A',\n",
       " '144A',\n",
       " '148A',\n",
       " '151A',\n",
       " '155A',\n",
       " '158A',\n",
       " '160A',\n",
       " '200B',\n",
       " '228A',\n",
       " '231A',\n",
       " '236A',\n",
       " '263A',\n",
       " '266A',\n",
       " '266B',\n",
       " '268A',\n",
       " '271A',\n",
       " '281A',\n",
       " '282A',\n",
       " '318A',\n",
       " '339A',\n",
       " '344A',\n",
       " '381A',\n",
       " '427A',\n",
       " '431A',\n",
       " '432A',\n",
       " '443A',\n",
       " '467A',\n",
       " '469A',\n",
       " '486A',\n",
       " '490A',\n",
       " '492A',\n",
       " '510A',\n",
       " '520A',\n",
       " '546A',\n",
       " '581A',\n",
       " '617A',\n",
       " '630A',\n",
       " '648B',\n",
       " '677A',\n",
       " '703A',\n",
       " '705A',\n",
       " '707A',\n",
       " '723A',\n",
       " '732A',\n",
       " '734A',\n",
       " '749A',\n",
       " '750A',\n",
       " '758A',\n",
       " '776A',\n",
       " '785A',\n",
       " '791A',\n",
       " '807A',\n",
       " '808A',\n",
       " '977A',\n",
       " '996A',\n",
       " '1030A',\n",
       " '1154A',\n",
       " '1283A',\n",
       " '1328A',\n",
       " '1335A',\n",
       " '1343B',\n",
       " '1352A',\n",
       " '1353B',\n",
       " '1360A',\n",
       " '1360B',\n",
       " '1367A',\n",
       " '1367B',\n",
       " '1370A',\n",
       " '1374A',\n",
       " '1399A',\n",
       " '1409A',\n",
       " '1433A',\n",
       " '1472B',\n",
       " '1512A',\n",
       " '1520A',\n",
       " '1535A',\n",
       " '1551A',\n",
       " '1560A',\n",
       " '1571A',\n",
       " '1619A',\n",
       " '1624A',\n",
       " '1669A',\n",
       " '1676A',\n",
       " '1692A',\n",
       " '1703A',\n",
       " '1722A',\n",
       " '1742A',\n",
       " '1760A',\n",
       " '1773F',\n",
       " '1791A',\n",
       " '1807A',\n",
       " '1850A',\n",
       " '1873A',\n",
       " '1915A',\n",
       " '1926A',\n",
       " '1926B',\n",
       " '1927B',\n",
       " '1942A',\n",
       " '1945A',\n",
       " '1946A',\n",
       " '1948A',\n",
       " '1950A',\n",
       " '1950B',\n",
       " '1950C',\n",
       " '1954A',\n",
       " '1955A']"
      ]
     },
     "execution_count": 24,
     "metadata": {},
     "output_type": "execute_result"
    }
   ],
   "source": [
    "print(\"List of problems solved: \")\n",
    "solved"
   ]
  }
 ],
 "metadata": {
  "kernelspec": {
   "display_name": "Python 3",
   "language": "python",
   "name": "python3"
  },
  "language_info": {
   "codemirror_mode": {
    "name": "ipython",
    "version": 3
   },
   "file_extension": ".py",
   "mimetype": "text/x-python",
   "name": "python",
   "nbconvert_exporter": "python",
   "pygments_lexer": "ipython3",
   "version": "3.11.8"
  }
 },
 "nbformat": 4,
 "nbformat_minor": 2
}
